{
  "nbformat": 4,
  "nbformat_minor": 0,
  "metadata": {
    "colab": {
      "provenance": [],
      "toc_visible": true,
      "include_colab_link": true
    },
    "kernelspec": {
      "name": "python3",
      "display_name": "Python 3"
    },
    "language_info": {
      "name": "python"
    }
  },
  "cells": [
    {
      "cell_type": "markdown",
      "metadata": {
        "id": "view-in-github",
        "colab_type": "text"
      },
      "source": [
        "<a href=\"https://colab.research.google.com/github/samula98/proj6_v00/blob/main/proj6_v03.ipynb\" target=\"_parent\"><img src=\"https://colab.research.google.com/assets/colab-badge.svg\" alt=\"Open In Colab\"/></a>"
      ]
    },
    {
      "cell_type": "markdown",
      "source": [
        "# Project 6: Image Classification with Deep Learning\n"
      ],
      "metadata": {
        "id": "W5ZzgGY01yAj"
      }
    },
    {
      "cell_type": "markdown",
      "source": [
        "## Goals\n",
        "\n",
        "Made a model that will be able to determine whether an image contains a cat or a dog."
      ],
      "metadata": {
        "id": "M_9lwsFv2BhW"
      }
    },
    {
      "cell_type": "markdown",
      "source": [
        "## Methods\n",
        "\n",
        "Build training and testing X and y data sets\n",
        "\n"
      ],
      "metadata": {
        "id": "jzni4edW2DK8"
      }
    },
    {
      "cell_type": "markdown",
      "source": [
        "# Images\n"
      ],
      "metadata": {
        "id": "Z7IxnO3ZGqlL"
      }
    },
    {
      "cell_type": "markdown",
      "source": [
        "\n",
        "Prior to starting this problem, be sure to enable the GPU runtime processing in your Jupyter notebook.\n",
        "\n"
      ],
      "metadata": {
        "id": "09CQVfHpXRMB"
      }
    },
    {
      "cell_type": "markdown",
      "source": [
        "## Problem Definition\n",
        "\n",
        "* Write a concise problem definition for the project. Put it in a text field at the top of your Jupyter notebook.\n",
        "\n",
        "* Load necessary packages.\n"
      ],
      "metadata": {
        "id": "f5PuSqe-H8u5"
      }
    },
    {
      "cell_type": "code",
      "source": [
        "import pandas as pd\n",
        "import numpy as np\n",
        "import pickle\n",
        "import tensorflow.keras as keras\n",
        "import tensorflow as tf\n",
        "import matplotlib.pyplot as plt\n",
        "import seaborn as sns\n",
        "from sklearn import datasets\n",
        "from keras.models import Sequential\n",
        "from keras.layers import Dense, Flatten, Conv2D, MaxPooling2D\n",
        "from keras.utils import plot_model\n",
        "from sklearn.model_selection import train_test_split\n",
        "from sklearn.preprocessing import StandardScaler"
      ],
      "metadata": {
        "id": "ZTGmmJGuJOMW"
      },
      "execution_count": null,
      "outputs": []
    },
    {
      "cell_type": "markdown",
      "source": [
        "## Data Collection\n"
      ],
      "metadata": {
        "id": "Ll3rUMEKH_b9"
      }
    },
    {
      "cell_type": "markdown",
      "source": [
        "\n",
        "* Load pickled data from X.pickle and y.pickle from the AWS S3 bucket.\n",
        "\n"
      ],
      "metadata": {
        "id": "DaGpv4TcXNpo"
      }
    },
    {
      "cell_type": "markdown",
      "source": [
        "* X.pickle"
      ],
      "metadata": {
        "id": "5eP4dzFY9gBt"
      }
    },
    {
      "cell_type": "code",
      "source": [
        "url_X = 'https://ddc-datascience.s3.amazonaws.com/Projects/Project.6-Images/Data/X.pickle'"
      ],
      "metadata": {
        "id": "nQTPStF_JO1N"
      },
      "execution_count": null,
      "outputs": []
    },
    {
      "cell_type": "code",
      "source": [
        "!curl -O {url_X}"
      ],
      "metadata": {
        "id": "41wrA695uX6R"
      },
      "execution_count": null,
      "outputs": []
    },
    {
      "cell_type": "code",
      "source": [
        "data_X = pd.read_pickle(url_X)\n",
        "data_X"
      ],
      "metadata": {
        "collapsed": true,
        "id": "-d2Lf6AH8Nl0"
      },
      "execution_count": null,
      "outputs": []
    },
    {
      "cell_type": "code",
      "source": [
        "data_X.shape"
      ],
      "metadata": {
        "id": "D8cRjJKd8wIy"
      },
      "execution_count": null,
      "outputs": []
    },
    {
      "cell_type": "code",
      "source": [
        "type(data_X)"
      ],
      "metadata": {
        "id": "kIw8ofdx8wn_"
      },
      "execution_count": null,
      "outputs": []
    },
    {
      "cell_type": "markdown",
      "source": [
        "* y.pickle"
      ],
      "metadata": {
        "id": "-PZhf55i9mVi"
      }
    },
    {
      "cell_type": "code",
      "source": [
        "url_y = 'https://ddc-datascience.s3.amazonaws.com/Projects/Project.6-Images/Data/y.pickle'"
      ],
      "metadata": {
        "id": "F2w9sAILud2b"
      },
      "execution_count": null,
      "outputs": []
    },
    {
      "cell_type": "code",
      "source": [
        "!curl -O {url_y}"
      ],
      "metadata": {
        "id": "vD_3dKLZ9AWB"
      },
      "execution_count": null,
      "outputs": []
    },
    {
      "cell_type": "code",
      "source": [
        "data_y = pd.read_pickle(url_y)\n",
        "data_y"
      ],
      "metadata": {
        "collapsed": true,
        "id": "RokRA7gB9AHP"
      },
      "execution_count": null,
      "outputs": []
    },
    {
      "cell_type": "code",
      "source": [
        "type(data_y)"
      ],
      "metadata": {
        "id": "syK7eyLIujOO"
      },
      "execution_count": null,
      "outputs": []
    },
    {
      "cell_type": "code",
      "source": [
        "len(data_y)"
      ],
      "metadata": {
        "id": "T8RyXnG979Nl"
      },
      "execution_count": null,
      "outputs": []
    },
    {
      "cell_type": "markdown",
      "source": [
        "* test image of a dog"
      ],
      "metadata": {
        "id": "CoZlWlLmj587"
      }
    },
    {
      "cell_type": "code",
      "source": [
        "url_test_image = 'https://ddc-datascience.s3.amazonaws.com/Projects/Project.6-Images/Data/dog.jpg'"
      ],
      "metadata": {
        "id": "8iilCGzWkEHU"
      },
      "execution_count": null,
      "outputs": []
    },
    {
      "cell_type": "markdown",
      "source": [
        "## Data Cleaning\n"
      ],
      "metadata": {
        "id": "Qv-tmJlyIBrL"
      }
    },
    {
      "cell_type": "markdown",
      "source": [
        "\n",
        "* Scale the values in X so that they fall between 0 and 1 by dividing by 255.\n",
        "\n"
      ],
      "metadata": {
        "id": "DrJ-2JwDXMYk"
      }
    },
    {
      "cell_type": "code",
      "source": [
        "data_Xscaled = data_X / 255\n",
        "data_Xscaled"
      ],
      "metadata": {
        "id": "EzDPOBMLJPnI",
        "collapsed": true
      },
      "execution_count": null,
      "outputs": []
    },
    {
      "cell_type": "markdown",
      "source": [
        "## Exploratory Data Analysis\n"
      ],
      "metadata": {
        "id": "UDccpNdgIEHR"
      }
    },
    {
      "cell_type": "markdown",
      "source": [
        "\n",
        "* Look at the shape of X and y. Ensure that X is 4 dimensional."
      ],
      "metadata": {
        "id": "VRCwjqGZXLG6"
      }
    },
    {
      "cell_type": "code",
      "source": [
        "data_Xscaled.shape # X (& X scaled) have 4 dimensions"
      ],
      "metadata": {
        "id": "oYhrYVG6uWbL"
      },
      "execution_count": null,
      "outputs": []
    },
    {
      "cell_type": "code",
      "source": [
        "data_X.shape"
      ],
      "metadata": {
        "id": "vnRCNt79uvUo"
      },
      "execution_count": null,
      "outputs": []
    },
    {
      "cell_type": "code",
      "source": [
        "# sence data_y is a list we can't do the shape method, but we can get the length\n",
        "len(data_y)"
      ],
      "metadata": {
        "id": "ABx6X59hutpm"
      },
      "execution_count": null,
      "outputs": []
    },
    {
      "cell_type": "markdown",
      "source": [
        "* Plot a few ( >5 ) of the images in X using plt.imshow()."
      ],
      "metadata": {
        "id": "7TH5StVpuU_C"
      }
    },
    {
      "cell_type": "code",
      "source": [
        "plt.imshow(data_Xscaled[0])"
      ],
      "metadata": {
        "id": "JP2pJKMBJQhk"
      },
      "execution_count": null,
      "outputs": []
    },
    {
      "cell_type": "code",
      "source": [
        "plt.imshow(data_Xscaled[2])"
      ],
      "metadata": {
        "id": "x3HK8C60xw1A"
      },
      "execution_count": null,
      "outputs": []
    },
    {
      "cell_type": "code",
      "source": [
        "plt.imshow(data_Xscaled[4])"
      ],
      "metadata": {
        "id": "ruYXcXscxyXF"
      },
      "execution_count": null,
      "outputs": []
    },
    {
      "cell_type": "code",
      "source": [
        "plt.imshow(data_Xscaled[6])"
      ],
      "metadata": {
        "id": "u60v16XFx4Bt"
      },
      "execution_count": null,
      "outputs": []
    },
    {
      "cell_type": "code",
      "source": [
        "plt.imshow(data_Xscaled[8])"
      ],
      "metadata": {
        "id": "z8RXTSVox5L8"
      },
      "execution_count": null,
      "outputs": []
    },
    {
      "cell_type": "code",
      "source": [
        "plt.imshow(data_Xscaled[10])"
      ],
      "metadata": {
        "id": "aSqlg07Lx6MG"
      },
      "execution_count": null,
      "outputs": []
    },
    {
      "cell_type": "markdown",
      "source": [
        "* Look at the response values in y for those images."
      ],
      "metadata": {
        "id": "dfgKDsnmuXDh"
      }
    },
    {
      "cell_type": "code",
      "source": [
        "data_y[0:11:2] # looks like dogs == 0 and cats == 1"
      ],
      "metadata": {
        "id": "Tlsskfihubuc"
      },
      "execution_count": null,
      "outputs": []
    },
    {
      "cell_type": "markdown",
      "source": [
        "* Hint: you may want to start with a random subset to get familiar with the process of building a NN.  Then go through the process again with the full set."
      ],
      "metadata": {
        "id": "GsGCYuvfufab"
      }
    },
    {
      "cell_type": "markdown",
      "source": [
        "## Data Processing\n"
      ],
      "metadata": {
        "id": "1swvVYT3IGoH"
      }
    },
    {
      "cell_type": "markdown",
      "source": [
        "* making testing sets"
      ],
      "metadata": {
        "id": "9Uqqy59iUlFe"
      }
    },
    {
      "cell_type": "code",
      "source": [
        "# making training set for data_X (first 200 inputs in array)\n",
        "X = data_Xscaled[:200]\n",
        "X"
      ],
      "metadata": {
        "collapsed": true,
        "id": "7SU2YYLjGBPz"
      },
      "execution_count": null,
      "outputs": []
    },
    {
      "cell_type": "code",
      "source": [
        "len(X)"
      ],
      "metadata": {
        "id": "toDO3iGfRYe7"
      },
      "execution_count": null,
      "outputs": []
    },
    {
      "cell_type": "code",
      "source": [
        "# making training set for data_y (first 200 inputs in list)\n",
        "y = data_y[:200]\n",
        "y"
      ],
      "metadata": {
        "collapsed": true,
        "id": "_55b5AmHGBMZ"
      },
      "execution_count": null,
      "outputs": []
    },
    {
      "cell_type": "code",
      "source": [
        "len(y)"
      ],
      "metadata": {
        "id": "ilnYnL8IGBJZ"
      },
      "execution_count": null,
      "outputs": []
    },
    {
      "cell_type": "markdown",
      "source": [
        "* Split X and y into training and testing sets."
      ],
      "metadata": {
        "id": "dLvLQJRH0kRl"
      }
    },
    {
      "cell_type": "code",
      "source": [
        "# train test split\n",
        "X_train, X_test, y_train, y_test = train_test_split(X, y, test_size = 0.1, random_state = 13)"
      ],
      "metadata": {
        "id": "5FhMpbAmGBGO"
      },
      "execution_count": null,
      "outputs": []
    },
    {
      "cell_type": "code",
      "source": [
        "X_train.shape, X_test.shape, len(y_train), len(y_test)"
      ],
      "metadata": {
        "id": "jnI-xLzOGA79"
      },
      "execution_count": null,
      "outputs": []
    },
    {
      "cell_type": "code",
      "source": [
        "# turn y into numpy array (keeping the same names: y_train & y_test)\n",
        "# probably not the best practice but it makes my life easy\n",
        "y_train = np.array(y_train)\n",
        "y_test = np.array(y_test)"
      ],
      "metadata": {
        "id": "DGGV2lEwTg8q"
      },
      "execution_count": null,
      "outputs": []
    },
    {
      "cell_type": "code",
      "source": [
        "print(type(y_train))\n",
        "print(type(y_test))"
      ],
      "metadata": {
        "id": "Xwni7QkMUC0C"
      },
      "execution_count": null,
      "outputs": []
    },
    {
      "cell_type": "code",
      "source": [
        "# looking at shape for the train test split, now all 4 of them are np arrays\n",
        "X_train.shape, X_test.shape, y_train.shape, y_test.shape"
      ],
      "metadata": {
        "id": "BqWs3s0sUNzw"
      },
      "execution_count": null,
      "outputs": []
    },
    {
      "cell_type": "markdown",
      "source": [
        "\n",
        "*  Build a convolutional neural network with the following:\n",
        "  * Sequential layers\n",
        "  * At least two 2D convolutional layers using the 'relu' activation function and a (3,3) kernel size.\n",
        "  * A MaxPooling2D layer after each 2D convolutional layer that has a pool size of (2,2).\n",
        "  * A dense output layer using the 'sigmoid' activation function.\n",
        "  Note: you can play around with the number of layers and nodes to try to get better performance.\n"
      ],
      "metadata": {
        "id": "-MRKZ22_XI90"
      }
    },
    {
      "cell_type": "code",
      "source": [
        "model = Sequential()"
      ],
      "metadata": {
        "id": "dHIC-guv2Nmv"
      },
      "execution_count": null,
      "outputs": []
    },
    {
      "cell_type": "code",
      "source": [
        "model.add(Flatten())"
      ],
      "metadata": {
        "id": "SRXOc2G-VYcE"
      },
      "execution_count": null,
      "outputs": []
    },
    {
      "cell_type": "code",
      "source": [
        "# difining the first hidden layer (hidden1)\n",
        "model.add(\n",
        "    Dense(\n",
        "        name = 'hidden1',\n",
        "        units = 144,\n",
        "        activation = 'relu',\n",
        "    )\n",
        ")"
      ],
      "metadata": {
        "id": "a8FEV67bVeAM"
      },
      "execution_count": null,
      "outputs": []
    },
    {
      "cell_type": "code",
      "source": [
        "# defining the second hidden layer (hidden2)\n",
        "model.add(\n",
        "    Dense(\n",
        "        name = 'hidden2',\n",
        "        units = 144,\n",
        "        activation = 'relu',\n",
        "    )\n",
        ")"
      ],
      "metadata": {
        "id": "6NjV3105VrSn"
      },
      "execution_count": null,
      "outputs": []
    },
    {
      "cell_type": "code",
      "source": [
        "# defining the output layer\n",
        "model.add(\n",
        "    Dense(\n",
        "        name = 'output',\n",
        "        units = 10,\n",
        "        activation = 'softmax',\n",
        "    )\n",
        ")"
      ],
      "metadata": {
        "id": "BQgr28qbWAuY"
      },
      "execution_count": null,
      "outputs": []
    },
    {
      "cell_type": "markdown",
      "source": [
        "\n",
        "* Compile your model. Use the 'adam' optimizer. Determine which loss function and metric is most appropriate for this problem.\n"
      ],
      "metadata": {
        "id": "euBJLPiX2DZE"
      }
    },
    {
      "cell_type": "code",
      "source": [
        "model.compile(\n",
        "    optimizer = 'adam',\n",
        "    loss = 'sparse_categorical_crossentropy',\n",
        "    metrics = ['accuracy']\n",
        ")"
      ],
      "metadata": {
        "id": "dOGcG2qT2OB8"
      },
      "execution_count": null,
      "outputs": []
    },
    {
      "cell_type": "markdown",
      "source": [
        "\n",
        "* Fit your model using the training set.\n"
      ],
      "metadata": {
        "id": "9uJvfWe12FKV"
      }
    },
    {
      "cell_type": "code",
      "source": [
        "model.fit(X_train, y_train, epochs = 8) ;"
      ],
      "metadata": {
        "id": "boelrcWP2Oc1"
      },
      "execution_count": null,
      "outputs": []
    },
    {
      "cell_type": "code",
      "source": [
        "model.summary()"
      ],
      "metadata": {
        "id": "1YZpT9qIWwGd"
      },
      "execution_count": null,
      "outputs": []
    },
    {
      "cell_type": "code",
      "source": [
        "# visualizing the model\n",
        "plot_model(model)"
      ],
      "metadata": {
        "id": "AymfTst4Wytx"
      },
      "execution_count": null,
      "outputs": []
    },
    {
      "cell_type": "markdown",
      "source": [
        "\n",
        "* Evaluate your model using the testing set.\n"
      ],
      "metadata": {
        "id": "rcvwl8A32G3B"
      }
    },
    {
      "cell_type": "code",
      "source": [
        "val_loss, val_accuracy = model.evaluate(X_test, y_test)\n",
        "print(f'Accuracy: {val_accuracy}')\n",
        "print(f'Loss: {val_loss}')"
      ],
      "metadata": {
        "id": "nTLut2ZN2O9m"
      },
      "execution_count": null,
      "outputs": []
    },
    {
      "cell_type": "markdown",
      "source": [
        "\n",
        "* Plot the distribution of probabilities for the testing set.\n"
      ],
      "metadata": {
        "id": "P53qnzWj2IId"
      }
    },
    {
      "cell_type": "code",
      "source": [],
      "metadata": {
        "id": "O96HVpWJixnA"
      },
      "execution_count": null,
      "outputs": []
    },
    {
      "cell_type": "markdown",
      "source": [
        "\n",
        "* Define a function that will read in a new image and convert it to a 4 dimensional array of pixels (ask the instructor for help with this). Hint: [numpy.reshape]( https://numpy.org/doc/stable/reference/generated/numpy.reshape.html )\n"
      ],
      "metadata": {
        "id": "DgAMV6oN2Jr4"
      }
    },
    {
      "cell_type": "code",
      "source": [
        "# from Wil:\n",
        "%%capture output\n",
        "%%bash\n",
        "apt-get update\n",
        "apt-get install -y exiftool"
      ],
      "metadata": {
        "id": "XRqjBsOUiAOX"
      },
      "execution_count": null,
      "outputs": []
    },
    {
      "cell_type": "code",
      "source": [
        "%%capture output\n",
        "!pip install pandas boto3"
      ],
      "metadata": {
        "id": "AyGgvosPiUFN"
      },
      "execution_count": null,
      "outputs": []
    },
    {
      "cell_type": "code",
      "source": [
        "import glob\n",
        "import os\n",
        "import re\n",
        "import json\n",
        "import cv2\n",
        "import requests\n",
        "import io\n",
        "import geopandas as gpd\n",
        "import folium\n",
        "import pprint\n",
        "from PIL import Image\n",
        "from shapely.geometry import Point"
      ],
      "metadata": {
        "id": "M-oCTycQ2PuF"
      },
      "execution_count": null,
      "outputs": []
    },
    {
      "cell_type": "code",
      "source": [
        "def image4D (url):\n",
        "  resp = requests.get(url, stream = True)\n",
        "  img = Image.open(io.BytesIO(resp.content)).convert('L')\n",
        "  img = np.array(img)\n",
        "  return img"
      ],
      "metadata": {
        "id": "9nez_Pc0cK69"
      },
      "execution_count": null,
      "outputs": []
    },
    {
      "cell_type": "code",
      "source": [
        "puppy = image4D(url_test_image)"
      ],
      "metadata": {
        "id": "ZTX3-INb2QKs"
      },
      "execution_count": null,
      "outputs": []
    },
    {
      "cell_type": "code",
      "source": [
        "resize_image = cv2.resize(puppy, (50,50))"
      ],
      "metadata": {
        "id": "RbNI3jy8kwQB"
      },
      "execution_count": null,
      "outputs": []
    },
    {
      "cell_type": "code",
      "source": [
        "resize_image = resize_image[np.newaxis, ...]\n",
        "final = resize_image.reshape(resize_image.shape + (1,))"
      ],
      "metadata": {
        "id": "QqeAi8Tyk_ww"
      },
      "execution_count": null,
      "outputs": []
    },
    {
      "cell_type": "code",
      "source": [
        "print(final.shape)"
      ],
      "metadata": {
        "id": "4cBkPWezk_tj"
      },
      "execution_count": null,
      "outputs": []
    },
    {
      "cell_type": "code",
      "source": [
        "plt.imshow(final[0])"
      ],
      "metadata": {
        "id": "UjQKvvMwk_qb"
      },
      "execution_count": null,
      "outputs": []
    },
    {
      "cell_type": "markdown",
      "source": [
        "\n",
        "* Use the function defined above to read in the dog.jpg image that is saved in the AWS S3 bucket.\n"
      ],
      "metadata": {
        "id": "HoSFmxcB2LOd"
      }
    },
    {
      "cell_type": "code",
      "source": [
        "model.predict(final)"
      ],
      "metadata": {
        "id": "b8U5b63l2Q_p"
      },
      "execution_count": null,
      "outputs": []
    },
    {
      "cell_type": "code",
      "source": [
        "plt.imshow(final[0])\n",
        "\n",
        "predictions = model.predict(final)"
      ],
      "metadata": {
        "id": "4AMdQ-gcrcbc"
      },
      "execution_count": null,
      "outputs": []
    },
    {
      "cell_type": "markdown",
      "source": [
        "\n",
        "* Use the neural network you created to predict whether the image is a dog or a cat.\n",
        "\n"
      ],
      "metadata": {
        "id": "ZegnyN9_2Mcm"
      }
    },
    {
      "cell_type": "code",
      "source": [],
      "metadata": {
        "id": "FU2fm8KtJRbW"
      },
      "execution_count": null,
      "outputs": []
    },
    {
      "cell_type": "markdown",
      "source": [
        "## Communication of Results\n"
      ],
      "metadata": {
        "id": "tT_-Jy7ZIJ3t"
      }
    },
    {
      "cell_type": "markdown",
      "source": [
        "\n",
        "* Communicate the results of your analysis.\n",
        "\n"
      ],
      "metadata": {
        "id": "MzKXfsuvXX7T"
      }
    },
    {
      "cell_type": "code",
      "source": [],
      "metadata": {
        "id": "TAZMivJ3IY_d"
      },
      "execution_count": null,
      "outputs": []
    },
    {
      "cell_type": "markdown",
      "source": [
        "## **BONUS** (optional)\n"
      ],
      "metadata": {
        "id": "ztu8gpNSILmj"
      }
    },
    {
      "cell_type": "markdown",
      "source": [
        "\n",
        "* Upload an image of your (or your friend's or family's) dog or cat and use your model to predict whether the image is a dog or cat.\n",
        "* Hint: you'll probably need to convert the image from color to grayscale.  OpenCV, pillow, and other libraries are your friend."
      ],
      "metadata": {
        "id": "DjGDKT60XY-G"
      }
    },
    {
      "cell_type": "code",
      "source": [],
      "metadata": {
        "id": "zOMNJ9ZyHWTD"
      },
      "execution_count": null,
      "outputs": []
    }
  ]
}